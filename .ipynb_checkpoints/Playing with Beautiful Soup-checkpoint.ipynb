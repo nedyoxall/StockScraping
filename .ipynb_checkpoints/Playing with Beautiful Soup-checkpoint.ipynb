{
 "cells": [
  {
   "cell_type": "code",
   "execution_count": 1,
   "metadata": {
    "collapsed": true
   },
   "outputs": [],
   "source": [
    "from bs4 import BeautifulSoup\n",
    "import urllib"
   ]
  },
  {
   "cell_type": "code",
   "execution_count": 3,
   "metadata": {
    "collapsed": false
   },
   "outputs": [],
   "source": [
    "r = urllib.urlopen(\"http://www.iii.co.uk/investment/detail?code=cotn:AMER.L&display=discussion\").read()\n",
    "soup = BeautifulSoup(r, \"html.parser\")"
   ]
  },
  {
   "cell_type": "code",
   "execution_count": 191,
   "metadata": {
    "collapsed": false
   },
   "outputs": [],
   "source": [
    "def get_raw_comments(soup):\n",
    "    return soup.find_all(\"div\", style =\"overflow: auto; width: 612px;\")\n",
    "comments = get_raw_comments(soup)"
   ]
  },
  {
   "cell_type": "code",
   "execution_count": 189,
   "metadata": {
    "collapsed": false
   },
   "outputs": [],
   "source": [
    "dates = soup.find_all(\"td\", class_=\"date\")"
   ]
  },
  {
   "cell_type": "code",
   "execution_count": 11,
   "metadata": {
    "collapsed": false
   },
   "outputs": [],
   "source": [
    "authors = soup.find_all(\"td\", class_=\"author\")"
   ]
  },
  {
   "cell_type": "code",
   "execution_count": 138,
   "metadata": {
    "collapsed": false
   },
   "outputs": [],
   "source": [
    "subjects = soup.find_all(\"td\", class_=\"subject\")"
   ]
  },
  {
   "cell_type": "code",
   "execution_count": 139,
   "metadata": {
    "collapsed": false
   },
   "outputs": [],
   "source": [
    "votes = soup.find_all(\"td\", class_=\"votes\")"
   ]
  },
  {
   "cell_type": "code",
   "execution_count": 142,
   "metadata": {
    "collapsed": false
   },
   "outputs": [
    {
     "name": "stdout",
     "output_type": "stream",
     "text": [
      "[u'New oil fields and pipe lines', u'3 oil stocks set to double?', u'Re: Loto-2 results?', u'Loto-2 results?', u'Re: Up 12% - Re: And up we go :-)', u'Re: Up 12% - Re: And up we go :-)', u'Cude over $50 PB...........', u'SP Increase', u'Re: Up 12% - Re: And up we go :-)', u'Re: Up 12% - Re: And up we go :-)', u'Re: Up 12% - Re: And up we go :-)', u'Re: Up 6% - Re: And up we go :-)', u'Up 6% - Re: And up we go :-)', u'Re: And up we go :-)', u'Re: And up we go :-)', u'Re: Dilution', u'Dilution', u'And up we go :-)', u'New corporate presentation', u'Re: H1 results', u'Re: H1 results', u'Re: H1 results', u'Re: H1 results', u'Double bottom?', u'Re: H1 results', u'Re: H1 results', u'Re: H1 results', u'H1 results', u'Re: Maybe time to buy?', u'Re: Maybe time to buy?', u'Maybe time to buy?', u'new update on the interconnector', u'Loto 2', u'RNS - Michinoko buying shares', u'RNS - operational update', u'Crude touched $ 48 today..........', u'Re: Great news,,,,,,', u'Re: Great news,,,,,,', u'Re: loto well', u'loto well']\n"
     ]
    }
   ],
   "source": [
    "subjects_list = []\n",
    "for subject in subjects:\n",
    "    subjects_list.append(subject.a.get_text()) #Subject text is actually a link so need to use 'a' (for links)\n",
    "print subjects_list"
   ]
  },
  {
   "cell_type": "code",
   "execution_count": 143,
   "metadata": {
    "collapsed": false
   },
   "outputs": [
    {
     "name": "stdout",
     "output_type": "stream",
     "text": [
      "['NO TAG', u'Strong BUY', 'NO TAG', 'NO TAG', 'NO TAG', 'NO TAG', 'NO TAG', u'Weak BUY', 'NO TAG', 'NO TAG', 'NO TAG', u'Strong BUY', 'NO TAG', 'NO TAG', 'NO TAG', u'Strong BUY', 'NO TAG', u'Strong BUY', u'Strong BUY', 'NO TAG', 'NO TAG', 'NO TAG', 'NO TAG', u'Strong BUY', 'NO TAG', u'Strong BUY', u'Strong SELL', 'NO TAG', 'NO TAG', 'NO TAG', 'NO TAG', 'NO TAG', u'Weak BUY', 'NO TAG', 'NO TAG', 'NO TAG', 'NO TAG', 'NO TAG', 'NO TAG', 'NO TAG']\n"
     ]
    }
   ],
   "source": [
    "tags_list = [] # tag is within the subjects BS object\n",
    "for subject in subjects:\n",
    "    try:\n",
    "        tags_list.append(subject.span[\"title\"]) #throws an error if there is no span marker\n",
    "    except:\n",
    "        tags_list.append(\"NO TAG\")\n",
    "print tags_list"
   ]
  },
  {
   "cell_type": "code",
   "execution_count": 144,
   "metadata": {
    "collapsed": false
   },
   "outputs": [
    {
     "name": "stdout",
     "output_type": "stream",
     "text": [
      "[0, 0, 0, 1, 1, 1, 0, 5, 1, 0, 0, 1, 0, 0, 1, 4, 0, 0, 2, 0, 2, 0, 0, 2, 0, 2, 1, 1, 1, 1, 0, 0, 1, 2, 2, 0, 0, 0, 0, 0]\n"
     ]
    }
   ],
   "source": [
    "votes_list = []\n",
    "for vote in votes:\n",
    "    no_of_votes = vote.span.get_text()\n",
    "    if no_of_votes == u'': # case where there are no votes\n",
    "        votes_list.append(0)\n",
    "    else:\n",
    "        votes_list.append(int(no_of_votes)) #case where there are votes\n",
    "print votes_list"
   ]
  },
  {
   "cell_type": "code",
   "execution_count": 145,
   "metadata": {
    "collapsed": false
   },
   "outputs": [
    {
     "name": "stdout",
     "output_type": "stream",
     "text": [
      "[u'Tank\\xa0Commander', u'bigwavedave', u'fadilz', u'celeriac', u'hammersandpodgers', u'Sumperk', u'MISOLDB', u'mintington', u'MISOLDB', u'Sumperk', u'The\\xa0Basher', u'MISOLDB', u'The\\xa0Basher', u'Sumperk', u'Elena\\xa0Saratov', u'Black\\xa0Pilgrim', u'RichardLY', u'The\\xa0Basher', u'bigwavedave', u'MISOLDB', u'Elena\\xa0Saratov', u'MISOLDB', u'Sumperk', u'The\\xa0Basher', u'Elena\\xa0Saratov', u'Black\\xa0Pilgrim', u'Elena\\xa0Saratov', u'celeriac', u'Eggbaconandbubble', u'Sumperk', u'Elena\\xa0Saratov', u'celeriac', u'Accredops', u'celeriac', u'celeriac', u'MISOLDB', u'spike501', u'lambrini\\xa0girl', u'rollthediceagain', u'shakyspark1']\n"
     ]
    }
   ],
   "source": [
    "authors_list = []\n",
    "for author in authors:\n",
    "    authors_list.append(author.a.get_text())\n",
    "print authors_list"
   ]
  },
  {
   "cell_type": "code",
   "execution_count": 192,
   "metadata": {
    "collapsed": false
   },
   "outputs": [
    {
     "name": "stdout",
     "output_type": "stream",
     "text": [
      "40\n"
     ]
    }
   ],
   "source": [
    "comments_list = []\n",
    "for comment in comments:\n",
    "    comments_list.append(comment.get_text())\n",
    "print len(comments_list)"
   ]
  },
  {
   "cell_type": "code",
   "execution_count": 190,
   "metadata": {
    "collapsed": false
   },
   "outputs": [
    {
     "name": "stdout",
     "output_type": "stream",
     "text": [
      "[datetime.datetime(2015, 10, 10, 11, 29), datetime.datetime(2015, 10, 9, 15, 12), datetime.datetime(2015, 10, 9, 14, 4), datetime.datetime(2015, 10, 9, 13, 29), datetime.datetime(2015, 10, 9, 12, 9), datetime.datetime(2015, 10, 9, 11, 12), datetime.datetime(2015, 10, 9, 10, 54), datetime.datetime(2015, 10, 8, 14, 2), datetime.datetime(2015, 10, 7, 13, 51), datetime.datetime(2015, 10, 7, 13, 0), datetime.datetime(2015, 10, 7, 11, 12), datetime.datetime(2015, 10, 7, 8, 51), datetime.datetime(2015, 10, 7, 8, 24), datetime.datetime(2015, 10, 6, 23, 18), datetime.datetime(2015, 10, 6, 21, 5), datetime.datetime(2015, 10, 6, 20, 6), datetime.datetime(2015, 10, 6, 19, 20), datetime.datetime(2015, 10, 6, 19, 17), datetime.datetime(2015, 10, 6, 16, 46), datetime.datetime(2015, 10, 6, 8, 6), datetime.datetime(2015, 10, 5, 22, 8), datetime.datetime(2015, 10, 12, 20, 53), datetime.datetime(2015, 5, 10, 0, 0), datetime.datetime(2015, 5, 10, 0, 0), datetime.datetime(2015, 4, 10, 0, 0), datetime.datetime(2015, 3, 10, 0, 0), datetime.datetime(2015, 3, 10, 0, 0), datetime.datetime(2015, 2, 10, 0, 0), datetime.datetime(2015, 1, 10, 0, 0), datetime.datetime(2015, 1, 10, 0, 0), datetime.datetime(2015, 9, 30, 0, 0), datetime.datetime(2015, 9, 28, 0, 0), datetime.datetime(2015, 9, 22, 0, 0), datetime.datetime(2015, 9, 15, 0, 0), datetime.datetime(2015, 7, 9, 0, 0), datetime.datetime(2015, 8, 31, 0, 0), datetime.datetime(2015, 8, 25, 0, 0), datetime.datetime(2015, 8, 24, 0, 0), datetime.datetime(2015, 8, 24, 0, 0), datetime.datetime(2015, 8, 23, 0, 0)]\n"
     ]
    }
   ],
   "source": [
    "from dateutil.parser import parse\n",
    "from datetime import datetime\n",
    "\n",
    "dates_list = []\n",
    "for date in dates:\n",
    "    d = parse(date.get_text())\n",
    "    if (d - datetime.now()).days >= 0: # for some reason, parser goes to future date\n",
    "        d = datetime(d.year, d.month, d.day-7, d.hour, d.minute)\n",
    "        dates_list.append(d)\n",
    "    else:\n",
    "        dates_list.append(d)\n",
    "    \n",
    "print dates_list"
   ]
  },
  {
   "cell_type": "code",
   "execution_count": null,
   "metadata": {
    "collapsed": true
   },
   "outputs": [],
   "source": []
  }
 ],
 "metadata": {
  "kernelspec": {
   "display_name": "Python 2",
   "language": "python",
   "name": "python2"
  },
  "language_info": {
   "codemirror_mode": {
    "name": "ipython",
    "version": 2
   },
   "file_extension": ".py",
   "mimetype": "text/x-python",
   "name": "python",
   "nbconvert_exporter": "python",
   "pygments_lexer": "ipython2",
   "version": "2.7.10"
  }
 },
 "nbformat": 4,
 "nbformat_minor": 0
}
